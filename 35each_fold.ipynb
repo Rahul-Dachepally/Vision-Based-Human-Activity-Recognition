{
  "nbformat": 4,
  "nbformat_minor": 0,
  "metadata": {
    "colab": {
      "provenance": [],
      "machine_shape": "hm"
    },
    "kernelspec": {
      "name": "python3",
      "display_name": "Python 3"
    },
    "accelerator": "TPU"
  },
  "cells": [
    {
      "cell_type": "markdown",
      "metadata": {
        "id": "4cbgwZWWfWpp"
      },
      "source": [
        "# New Section"
      ]
    },
    {
      "cell_type": "code",
      "metadata": {
        "id": "tAb77yZ9fzMG",
        "colab": {
          "base_uri": "https://localhost:8080/"
        },
        "outputId": "7fd9a217-f2d2-4f4d-8bac-853e075e21a5"
      },
      "source": [
        "!pip install pafy youtube-dl moviepy\n",
        "!pip install imageio==2.4.1\n",
        "!pip install imageio-ffmpeg/"
      ],
      "execution_count": null,
      "outputs": [
        {
          "output_type": "stream",
          "name": "stdout",
          "text": [
            "Collecting pafy\n",
            "  Downloading pafy-0.5.5-py2.py3-none-any.whl (35 kB)\n",
            "Collecting youtube-dl\n",
            "  Downloading youtube_dl-2021.12.17-py2.py3-none-any.whl (1.9 MB)\n",
            "\u001b[2K     \u001b[90m━━━━━━━━━━━━━━━━━━━━━━━━━━━━━━━━━━━━━━━━\u001b[0m \u001b[32m1.9/1.9 MB\u001b[0m \u001b[31m25.8 MB/s\u001b[0m eta \u001b[36m0:00:00\u001b[0m\n",
            "\u001b[?25hRequirement already satisfied: moviepy in /usr/local/lib/python3.10/dist-packages (1.0.3)\n",
            "Requirement already satisfied: decorator<5.0,>=4.0.2 in /usr/local/lib/python3.10/dist-packages (from moviepy) (4.4.2)\n",
            "Requirement already satisfied: tqdm<5.0,>=4.11.2 in /usr/local/lib/python3.10/dist-packages (from moviepy) (4.65.0)\n",
            "Requirement already satisfied: requests<3.0,>=2.8.1 in /usr/local/lib/python3.10/dist-packages (from moviepy) (2.27.1)\n",
            "Requirement already satisfied: proglog<=1.0.0 in /usr/local/lib/python3.10/dist-packages (from moviepy) (0.1.10)\n",
            "Requirement already satisfied: numpy>=1.17.3 in /usr/local/lib/python3.10/dist-packages (from moviepy) (1.25.1)\n",
            "Requirement already satisfied: imageio<3.0,>=2.5 in /usr/local/lib/python3.10/dist-packages (from moviepy) (2.25.1)\n",
            "Requirement already satisfied: imageio-ffmpeg>=0.2.0 in /usr/local/lib/python3.10/dist-packages (from moviepy) (0.4.8)\n",
            "Requirement already satisfied: pillow>=8.3.2 in /usr/local/lib/python3.10/dist-packages (from imageio<3.0,>=2.5->moviepy) (8.4.0)\n",
            "Requirement already satisfied: urllib3<1.27,>=1.21.1 in /usr/local/lib/python3.10/dist-packages (from requests<3.0,>=2.8.1->moviepy) (1.26.16)\n",
            "Requirement already satisfied: certifi>=2017.4.17 in /usr/local/lib/python3.10/dist-packages (from requests<3.0,>=2.8.1->moviepy) (2023.5.7)\n",
            "Requirement already satisfied: charset-normalizer~=2.0.0 in /usr/local/lib/python3.10/dist-packages (from requests<3.0,>=2.8.1->moviepy) (2.0.12)\n",
            "Requirement already satisfied: idna<4,>=2.5 in /usr/local/lib/python3.10/dist-packages (from requests<3.0,>=2.8.1->moviepy) (3.4)\n",
            "Installing collected packages: youtube-dl, pafy\n",
            "Successfully installed pafy-0.5.5 youtube-dl-2021.12.17\n",
            "Collecting imageio==2.4.1\n",
            "  Downloading imageio-2.4.1.tar.gz (3.3 MB)\n",
            "\u001b[2K     \u001b[90m━━━━━━━━━━━━━━━━━━━━━━━━━━━━━━━━━━━━━━━━\u001b[0m \u001b[32m3.3/3.3 MB\u001b[0m \u001b[31m33.3 MB/s\u001b[0m eta \u001b[36m0:00:00\u001b[0m\n",
            "\u001b[?25h  Preparing metadata (setup.py) ... \u001b[?25l\u001b[?25hdone\n",
            "Requirement already satisfied: numpy in /usr/local/lib/python3.10/dist-packages (from imageio==2.4.1) (1.25.1)\n",
            "Requirement already satisfied: pillow in /usr/local/lib/python3.10/dist-packages (from imageio==2.4.1) (8.4.0)\n",
            "Building wheels for collected packages: imageio\n",
            "  Building wheel for imageio (setup.py) ... \u001b[?25l\u001b[?25hdone\n",
            "  Created wheel for imageio: filename=imageio-2.4.1-py3-none-any.whl size=3303886 sha256=0ebe42d1c5e001db4f0c595d49ce38dbcc75b9d37760f3084d085fd98d3f396a\n",
            "  Stored in directory: /root/.cache/pip/wheels/96/5d/ce/bdbdb04744dac03906336eb0d01ff1e222061d3419c55c55f9\n",
            "Successfully built imageio\n",
            "Installing collected packages: imageio\n",
            "  Attempting uninstall: imageio\n",
            "    Found existing installation: imageio 2.25.1\n",
            "    Uninstalling imageio-2.25.1:\n",
            "      Successfully uninstalled imageio-2.25.1\n",
            "\u001b[31mERROR: pip's dependency resolver does not currently take into account all the packages that are installed. This behaviour is the source of the following dependency conflicts.\n",
            "moviepy 1.0.3 requires imageio<3.0,>=2.5; python_version >= \"3.4\", but you have imageio 2.4.1 which is incompatible.\u001b[0m\u001b[31m\n",
            "\u001b[0mSuccessfully installed imageio-2.4.1\n",
            "\u001b[31mERROR: Invalid requirement: 'imageio-ffmpeg/'\n",
            "Hint: It looks like a path. File 'imageio-ffmpeg/' does not exist.\u001b[0m\u001b[31m\n",
            "\u001b[0m"
          ]
        }
      ]
    },
    {
      "cell_type": "code",
      "metadata": {
        "id": "pafL7Li0jyXW",
        "colab": {
          "base_uri": "https://localhost:8080/"
        },
        "outputId": "caaa56ee-616d-4956-bb6e-311bd2e292db"
      },
      "source": [
        "from google.colab import drive\n",
        "drive.mount('/content/drive')"
      ],
      "execution_count": null,
      "outputs": [
        {
          "output_type": "stream",
          "name": "stdout",
          "text": [
            "Mounted at /content/drive\n"
          ]
        }
      ]
    },
    {
      "cell_type": "code",
      "source": [
        "import os\n",
        "import cv2\n",
        "import math\n",
        "import pafy\n",
        "import random\n",
        "import numpy as np\n",
        "import datetime as dt\n",
        "import tensorflow as tf\n",
        "import ast\n",
        "import re\n",
        "from moviepy.editor import *\n",
        "from collections import deque\n",
        "import matplotlib.pyplot as plt\n",
        "%matplotlib inline\n",
        "from sklearn.model_selection import KFold\n",
        "from sklearn.model_selection import train_test_split\n",
        "\n",
        "from tensorflow.keras.layers import *\n",
        "from tensorflow.keras.utils import to_categorical\n",
        "from tensorflow.keras.callbacks import EarlyStopping\n",
        "from tensorflow.keras.utils import plot_model\n",
        "from tensorflow.keras.models import Sequential\n",
        "from tensorflow.keras.layers import Dense, Dropout, LSTM, Bidirectional, TimeDistributed\n",
        "from tensorflow.keras.applications.vgg16 import VGG16\n",
        "from tensorflow.keras import regularizers\n",
        "from sklearn.svm import SVC\n",
        "import pickle\n",
        "import gc\n"
      ],
      "metadata": {
        "id": "bR0hlih16o-3"
      },
      "execution_count": null,
      "outputs": []
    },
    {
      "cell_type": "code",
      "source": [
        "import tensorflow as tf\n",
        "tf.config.list_physical_devices()\n",
        "# physical_devices = tf.config.list_physical_devices('GPU')\n",
        "# tf.config.experimental.set_memory_growth(physical_devices[0], True)"
      ],
      "metadata": {
        "id": "I6EzRy7F6o8l",
        "colab": {
          "base_uri": "https://localhost:8080/"
        },
        "outputId": "6d6c664a-af1c-4ff3-bd96-ebbdc3e52108"
      },
      "execution_count": null,
      "outputs": [
        {
          "output_type": "execute_result",
          "data": {
            "text/plain": [
              "[PhysicalDevice(name='/physical_device:CPU:0', device_type='CPU')]"
            ]
          },
          "metadata": {},
          "execution_count": 4
        }
      ]
    },
    {
      "cell_type": "code",
      "source": [
        "seed_constant = 23\n",
        "np.random.seed(seed_constant)\n",
        "random.seed(seed_constant)\n",
        "tf.random.set_seed(seed_constant)\n",
        "\n",
        "root_dir = '/content/drive/MyDrive/HAR2/'\n",
        "# root_dir = '/content/drive/MyDrive/'\n",
        "os.chdir(root_dir)\n",
        "contents = os.listdir(root_dir)\n",
        "for item in contents:\n",
        "#   pass\n",
        "  print(item)\n",
        "\n",
        "# PATH IF '/content/drive/MyDrive/HAR DATA/' THEN BELOW\n",
        "folder_path = 'HARDATA'\n",
        "contents = os.listdir(folder_path)\n",
        "for item in contents:\n",
        "    print(item ,end = \",\")"
      ],
      "metadata": {
        "id": "1Jql7yBO6o6G",
        "colab": {
          "base_uri": "https://localhost:8080/"
        },
        "outputId": "eea6ba40-1709-42e7-d079-6b4c56a18475"
      },
      "execution_count": null,
      "outputs": [
        {
          "output_type": "stream",
          "name": "stdout",
          "text": [
            "HARDATA\n",
            "subpath_features\n",
            "smoke,hit,catch,jump,hug,shoot_gun,kiss,brush_hair,walk,chew,climb,climb_stairs,dive,draw_sword,dribble,drink,"
          ]
        }
      ]
    },
    {
      "cell_type": "code",
      "source": [
        "plt.figure(figsize = (20, 20))\n",
        "all_classes_names = ['walk','brush_hair','catch','chew','climb','climb_stairs','dive','draw_sword','dribble','drink','eat','fall_floor','fencing','flic_flac','golf','handstand','hit','hug','jump','kick','kick_ball','kiss','laugh','pick','pullup','punch','push','pushup','ride_bike','ride_horse','shake_hands','shoot_bow','shoot_gun','sit','situp','smile','smoke','stand','swing_baseball','sword','sword_exercise','talk','throw','turn','wave','cartwheel','pour','run','shoot_ball','somersault','clap']\n",
        "\n",
        "\n",
        "# Specify the height and width to which each video frame will be resized in our dataset.\n",
        "IMAGE_HEIGHT , IMAGE_WIDTH = 64, 64\n",
        "\n",
        "# Specify the number of frames of a video that will be fed to the model as one sequence.\n",
        "SEQUENCE_LENGTH = 30\n",
        "\n",
        "# Specify the directory containing the UCF50 dataset.\n",
        "DATASET_DIR = \"HARDATA\"\n",
        "\n",
        "# Specify the list containing the names of the classes used for training. Feel free to choose any set of classes.\n",
        "CLASSES_LIST = all_classes_names[0:10]"
      ],
      "metadata": {
        "id": "udaJvt5t6o3r",
        "colab": {
          "base_uri": "https://localhost:8080/",
          "height": 34
        },
        "outputId": "5694e329-9521-42a4-b1bb-2c5bd66cb82c"
      },
      "execution_count": null,
      "outputs": [
        {
          "output_type": "display_data",
          "data": {
            "text/plain": [
              "<Figure size 2000x2000 with 0 Axes>"
            ]
          },
          "metadata": {}
        }
      ]
    },
    {
      "cell_type": "code",
      "source": [
        "import pandas as pd\n",
        "\n",
        "if not os.path.exists(\"subpath_features\"):\n",
        "    os.makedirs(\"subpath_features\")\n",
        "\n",
        "\n",
        "csv_path2 = os.path.join(\"subpath_features\", \"lables.npy\")\n",
        "csv_path3 = os.path.join(\"subpath_features\", \"paths.csv\")"
      ],
      "metadata": {
        "id": "2xTcgYYV6x8m"
      },
      "execution_count": null,
      "outputs": []
    },
    {
      "cell_type": "code",
      "source": [
        "#CLASSES_LIST = CLASSES_LIST[0:10]\n",
        "\n",
        "labels = np.load(csv_path2)\n",
        "labels = labels[0:2209]\n",
        "one_hot_encoded_labels = to_categorical(labels)\n",
        "print(one_hot_encoded_labels)"
      ],
      "metadata": {
        "id": "Vlsft0cs6x6R",
        "colab": {
          "base_uri": "https://localhost:8080/"
        },
        "outputId": "3156f06c-4c0f-4485-fe3a-3eebdbc2525d"
      },
      "execution_count": null,
      "outputs": [
        {
          "output_type": "stream",
          "name": "stdout",
          "text": [
            "[[1. 0. 0. ... 0. 0. 0.]\n",
            " [1. 0. 0. ... 0. 0. 0.]\n",
            " [1. 0. 0. ... 0. 0. 0.]\n",
            " ...\n",
            " [0. 0. 0. ... 0. 0. 1.]\n",
            " [0. 0. 0. ... 0. 0. 1.]\n",
            " [0. 0. 0. ... 0. 0. 1.]]\n"
          ]
        }
      ]
    },
    {
      "cell_type": "code",
      "source": [
        "def plot_metric(model_training_history, metric_name_1, metric_name_2, plot_name):\n",
        "    '''\n",
        "    This function will plot the metrics passed to it in a graph.\n",
        "    Args:\n",
        "        model_training_history: A history object containing a record of training and validation\n",
        "                                loss values and metrics values at successive epochs\n",
        "        metric_name_1:          The name of the first metric that needs to be plotted in the graph.\n",
        "        metric_name_2:          The name of the second metric that needs to be plotted in the graph.\n",
        "        plot_name:              The title of the graph.\n",
        "    '''\n",
        "\n",
        "    # Get metric values using metric names as identifiers.\n",
        "    metric_value_1 = model_training_history.history[metric_name_1]\n",
        "    metric_value_2 = model_training_history.history[metric_name_2]\n",
        "\n",
        "    # Construct a range object which will be used as x-axis (horizontal plane) of the graph.\n",
        "    epochs = range(len(metric_value_1))\n",
        "\n",
        "    # Plot the Graph.\n",
        "    plt.plot(epochs, metric_value_1, 'blue', label = metric_name_1)\n",
        "    plt.plot(epochs, metric_value_2, 'red', label = metric_name_2)\n",
        "\n",
        "    # Add title to the plot.\n",
        "    plt.title(str(plot_name))\n",
        "\n",
        "    # Add legend to the plot.\n",
        "    plt.legend()"
      ],
      "metadata": {
        "id": "QDwrBekj6x3i"
      },
      "execution_count": null,
      "outputs": []
    },
    {
      "cell_type": "code",
      "source": [
        "def create_cnn_bilstm_model():\n",
        "  cnn = VGG16(weights='imagenet', include_top=False, input_shape=(IMAGE_HEIGHT, IMAGE_WIDTH, 3))\n",
        "  # Freeze the CNN layers\n",
        "  for layer in cnn.layers:\n",
        "    layer.trainable = False\n",
        "  # Define the model architecture\n",
        "  model = Sequential()\n",
        "  model.add(TimeDistributed(cnn, input_shape=(SEQUENCE_LENGTH,IMAGE_HEIGHT, IMAGE_WIDTH, 3)))\n",
        "  model.add(TimeDistributed(Flatten()))\n",
        "  model.add(Bidirectional(LSTM(64, return_sequences=True)))\n",
        "  model.add(Dropout(0.5))\n",
        "  model.add(Bidirectional(LSTM(32)))\n",
        "  model.add(Dense(len(CLASSES_LIST), activation='softmax'))\n",
        "  model.summary()\n",
        "\n",
        "    # Return the constructed convlstm model.\n",
        "  return model\n",
        "\n",
        "\n",
        "# Compile the model\n",
        "check = 0"
      ],
      "metadata": {
        "id": "G_s25p737Ba3"
      },
      "execution_count": null,
      "outputs": []
    },
    {
      "cell_type": "code",
      "source": [
        "model = create_cnn_bilstm_model()\n",
        "check = 0"
      ],
      "metadata": {
        "id": "K1Q2i3X47BYg",
        "colab": {
          "base_uri": "https://localhost:8080/"
        },
        "outputId": "efc5effb-92e8-4143-ada2-718b64b4a442"
      },
      "execution_count": null,
      "outputs": [
        {
          "output_type": "stream",
          "name": "stdout",
          "text": [
            "Downloading data from https://storage.googleapis.com/tensorflow/keras-applications/vgg16/vgg16_weights_tf_dim_ordering_tf_kernels_notop.h5\n",
            "58889256/58889256 [==============================] - 0s 0us/step\n",
            "Model: \"sequential\"\n",
            "_________________________________________________________________\n",
            " Layer (type)                Output Shape              Param #   \n",
            "=================================================================\n",
            " time_distributed (TimeDistr  (None, 30, 2, 2, 512)    14714688  \n",
            " ibuted)                                                         \n",
            "                                                                 \n",
            " time_distributed_1 (TimeDis  (None, 30, 2048)         0         \n",
            " tributed)                                                       \n",
            "                                                                 \n",
            " bidirectional (Bidirectiona  (None, 30, 128)          1081856   \n",
            " l)                                                              \n",
            "                                                                 \n",
            " dropout (Dropout)           (None, 30, 128)           0         \n",
            "                                                                 \n",
            " bidirectional_1 (Bidirectio  (None, 64)               41216     \n",
            " nal)                                                            \n",
            "                                                                 \n",
            " dense (Dense)               (None, 10)                650       \n",
            "                                                                 \n",
            "=================================================================\n",
            "Total params: 15,838,410\n",
            "Trainable params: 1,123,722\n",
            "Non-trainable params: 14,714,688\n",
            "_________________________________________________________________\n"
          ]
        }
      ]
    },
    {
      "cell_type": "code",
      "source": [
        "plot_model(model, to_file = 'LRCN_model_structure_plot.png', show_shapes = True, show_layer_names = True)"
      ],
      "metadata": {
        "id": "htYiOGDC7BPb",
        "colab": {
          "base_uri": "https://localhost:8080/",
          "height": 754
        },
        "outputId": "6e9fca12-ad99-4e5d-e8e5-9cda8ca64d84"
      },
      "execution_count": null,
      "outputs": [
        {
          "output_type": "execute_result",
          "data": {
            "image/png": "[encoded data removed]",
            "text/plain": [
              "<IPython.core.display.Image object>"
            ]
          },
          "metadata": {},
          "execution_count": 12
        }
      ]
    },
    {
      "cell_type": "code",
      "source": [
        "\n",
        "npypath = os.path.join(\"subpath_features\",  f\"features.npy\")\n",
        "k = 5 # number of folds\n",
        "num_epochs = 10\n",
        "batch_size = 32\n",
        "histories=[]\n",
        "scores = []\n",
        "\n",
        "def loads() :\n",
        "    features = np.load(npypath)\n",
        "    # Create KFold object\n",
        "    kf = KFold(n_splits=k, shuffle=True, random_state=42)\n",
        "    x = kf.split(features)\n",
        "    splits = list(x)\n",
        "    with open('splits.pkl', 'wb') as f:\n",
        "        pickle.dump(splits, f)\n",
        "loads()\n",
        "\n"
      ],
      "metadata": {
        "id": "aeslGHZh7G-F"
      },
      "execution_count": null,
      "outputs": []
    },
    {
      "cell_type": "code",
      "source": [
        "\n",
        "try:\n",
        "    with open('scores1.pkl', \"rb\") as file:\n",
        "        scores = pickle.load(file)\n",
        "        print(\"Exist\")\n",
        "except FileNotFoundError:\n",
        "    scores = {}\n",
        "    with open('scores1.pkl', 'wb') as b:\n",
        "        pickle.dump(scores, b)\n",
        "    print(\"new dict\")\n"
      ],
      "metadata": {
        "id": "yJ-TRAQ87G7g",
        "colab": {
          "base_uri": "https://localhost:8080/"
        },
        "outputId": "27171f4b-566a-4638-b621-b01c5cc2f599"
      },
      "execution_count": null,
      "outputs": [
        {
          "output_type": "stream",
          "name": "stdout",
          "text": [
            "new dict\n"
          ]
        }
      ]
    },
    {
      "cell_type": "code",
      "source": [
        "splits = []\n",
        "with open('splits.pkl', 'rb') as f:\n",
        "    splits = pickle.load(f)\n",
        "scores = {}\n",
        "with open('scores1.pkl', 'rb') as f:\n",
        "    scores = pickle.load(f)\n",
        "\n",
        "intermediate_model = None\n",
        "# Loop over the folds\n",
        "kfold_value = 0\n",
        "endKfold_value = kfold_value+1\n",
        "\n",
        "model_num = check\n",
        "im = kfold_value\n",
        "for j, (train_indices, val_indices) in enumerate(splits[kfold_value:endKfold_value]):\n",
        "    if im in scores :\n",
        "        im = im + 1\n",
        "        continue\n",
        "    else :\n",
        "        im = kfold_value\n",
        "        batch_size = 32\n",
        "\n",
        "        features = np.load(npypath)\n",
        "        features = np.asarray(features)\n",
        "        X_train, y_train = features[train_indices], one_hot_encoded_labels[train_indices]\n",
        "        X_val, y_val = features[val_indices], one_hot_encoded_labels[val_indices]\n",
        "\n",
        "        %reset_selective -f features\n",
        "        gc.collect()\n",
        "\n",
        "        model = create_cnn_bilstm_model();\n",
        "        early_stopping_callback = EarlyStopping(monitor = 'val_loss', patience = 15, mode = 'min', restore_best_weights = True)\n",
        "        model.compile(loss = 'categorical_crossentropy', optimizer = 'Adam', metrics = [\"accuracy\"])\n",
        "        model_num = check\n",
        "        check = check + 1\n",
        "\n",
        "        LRCN_model_training_history = model.fit(x = X_train, y = y_train, epochs = 40, batch_size = 8 , validation_data=(X_val, y_val), callbacks = [early_stopping_callback])\n",
        "        histories.append(LRCN_model_training_history)\n",
        "\n",
        "        %reset_selective -f ^(X_)\n",
        "        %reset_selective -f ^(y_)\n",
        "        gc.collect()\n",
        "\n",
        "        layer_output=model.get_layer(f'bidirectional_{(model_num*2)+3}').output\n",
        "        model_num = check\n",
        "\n",
        "\n",
        "        intermediate_model=tf.keras.models.Model(inputs=model.input,outputs=layer_output) #Intermediate model between Input Layer and Output Layer which we are concerned about\n",
        "\n",
        "        features = np.load(npypath)\n",
        "        features = np.asarray(features)\n",
        "        fat_train, fat_test, labels_train, labels_test = train_test_split(features, one_hot_encoded_labels, test_size = 0.25, shuffle = True, random_state = seed_constant)\n",
        "        %reset_selective -f features\n",
        "        gc.collect()\n",
        "\n",
        "        num_samples = fat_train.shape[0]\n",
        "        num_batches = num_samples // batch_size\n",
        "        X_train_batches = []\n",
        "        start_idx = 0\n",
        "        end_idx = 0\n",
        "        for i in range(num_batches+1):\n",
        "            start_idx = end_idx\n",
        "            end_idx =  start_idx + batch_size\n",
        "            if end_idx > num_samples:\n",
        "                end_idx = num_samples\n",
        "            batch = fat_train[start_idx:end_idx]\n",
        "            X_train_batch = intermediate_model.predict(batch)\n",
        "            X_train_batches.append(X_train_batch)\n",
        "        X_train = np.concatenate(X_train_batches, axis=0)\n",
        "\n",
        "        num_samples = fat_test.shape[0]\n",
        "        num_batches = num_samples // batch_size\n",
        "        X_test_batches = []\n",
        "        start_idx = 0\n",
        "        end_idx = 0\n",
        "        for i in range(num_batches+1):\n",
        "            start_idx = end_idx\n",
        "            end_idx =  start_idx + batch_size\n",
        "            if end_idx > num_samples:\n",
        "                end_idx = num_samples\n",
        "            batch = fat_test[start_idx:end_idx]\n",
        "            X_test_batch = intermediate_model.predict(batch)\n",
        "            X_test_batches.append(X_test_batch)\n",
        "        X_test = np.concatenate(X_test_batches, axis=0)\n",
        "\n",
        "        %reset_selective -f ^(fat_)\n",
        "        %reset_selective -f ^(batch)\n",
        "        gc.collect()\n",
        "\n",
        "        # print([X_train.shape,X_test.shape])\n",
        "        X_train = X_train.reshape(X_train.shape[0], -1)\n",
        "        X_test = X_test.reshape(X_test.shape[0], -1)\n",
        "        # print([X_train.shape,X_test.shape])\n",
        "\n",
        "        # print([labels_train.shape,labels_test.shape])\n",
        "\n",
        "        svm = SVC(kernel='linear', probability=True,C=1.0)\n",
        "        svm.fit(X_train, np.where(labels_train==1)[1])\n",
        "\n",
        "        %reset_selective -f X_train\n",
        "        %reset_selective -f labels_train\n",
        "        gc.collect()\n",
        "        accuracy = svm.score(X_test, np.where(labels_test==1)[1])\n",
        "        print(\"Accuracy:\", accuracy)\n",
        "        scores[im] = accuracy\n",
        "\n",
        "        %reset_selective -f X_test\n",
        "        %reset_selective -f labels_test\n",
        "        gc.collect()\n",
        "        # Save the model\n",
        "        model.save(f'model_fold_{i+1}.h5')\n",
        "        intermediate_model.save(f'intermediate_model_fold_{i+1}.h5')\n",
        "        pickle.dump(svm,open(f'svm_{i+1}.pickle',\"wb\"))\n",
        "\n",
        "        with open('scores1.pkl', 'wb') as b:\n",
        "            pickle.dump(scores, b)\n",
        "\n",
        "        # Reset the model weights for the next fold\n",
        "        model.reset_states()\n",
        "\n",
        "        im = im + 1\n",
        "\n",
        "        %reset_selective -f model\n",
        "        %reset_selective -f svm"
      ],
      "metadata": {
        "id": "-DNMMyH47LWZ",
        "colab": {
          "base_uri": "https://localhost:8080/"
        },
        "outputId": "b9b04339-c84b-4ca2-b5d2-79910d970e71"
      },
      "execution_count": null,
      "outputs": [
        {
          "output_type": "stream",
          "name": "stdout",
          "text": [
            "Model: \"sequential_1\"\n",
            "_________________________________________________________________\n",
            " Layer (type)                Output Shape              Param #   \n",
            "=================================================================\n",
            " time_distributed_2 (TimeDis  (None, 30, 2, 2, 512)    14714688  \n",
            " tributed)                                                       \n",
            "                                                                 \n",
            " time_distributed_3 (TimeDis  (None, 30, 2048)         0         \n",
            " tributed)                                                       \n",
            "                                                                 \n",
            " bidirectional_2 (Bidirectio  (None, 30, 128)          1081856   \n",
            " nal)                                                            \n",
            "                                                                 \n",
            " dropout_1 (Dropout)         (None, 30, 128)           0         \n",
            "                                                                 \n",
            " bidirectional_3 (Bidirectio  (None, 64)               41216     \n",
            " nal)                                                            \n",
            "                                                                 \n",
            " dense_1 (Dense)             (None, 10)                650       \n",
            "                                                                 \n",
            "=================================================================\n",
            "Total params: 15,838,410\n",
            "Trainable params: 1,123,722\n",
            "Non-trainable params: 14,714,688\n",
            "_________________________________________________________________\n",
            "Epoch 1/40\n",
            "221/221 [==============================] - 235s 1s/step - loss: 1.5670 - accuracy: 0.4720 - val_loss: 1.3493 - val_accuracy: 0.5317\n",
            "Epoch 2/40\n",
            "221/221 [==============================] - 184s 833ms/step - loss: 1.1099 - accuracy: 0.6197 - val_loss: 1.0517 - val_accuracy: 0.6538\n",
            "Epoch 3/40\n",
            "221/221 [==============================] - 181s 819ms/step - loss: 0.9142 - accuracy: 0.7085 - val_loss: 0.9653 - val_accuracy: 0.6878\n",
            "Epoch 4/40\n",
            "221/221 [==============================] - 182s 823ms/step - loss: 0.7962 - accuracy: 0.7306 - val_loss: 0.9375 - val_accuracy: 0.6900\n",
            "Epoch 5/40\n",
            " 87/221 [==========>...................] - ETA: 1:29 - loss: 0.6821 - accuracy: 0.7816"
          ]
        }
      ]
    },
    {
      "cell_type": "code",
      "source": [
        "# Calculate the average performance metric\n",
        "with open('scores.pkl', 'rb') as f:\n",
        "    scores = pickle.load(f)\n",
        "#print(histories)\n",
        "avg_metric = np.mean([scores[x] for x in scores])\n",
        "print(f'Average validation accuracy: {avg_metric}')"
      ],
      "metadata": {
        "id": "KfuNmLi17QF1"
      },
      "execution_count": null,
      "outputs": []
    }
  ]
}